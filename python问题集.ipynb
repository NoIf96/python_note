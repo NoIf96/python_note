{
 "cells": [
  {
   "cell_type": "code",
   "execution_count": 3,
   "metadata": {},
   "outputs": [
    {
     "data": {
      "text/plain": [
       "'\\npython 使用遇到问题集  \\nNoIf\\n计划时间：2018-7-18\\n'"
      ]
     },
     "execution_count": 3,
     "metadata": {},
     "output_type": "execute_result"
    }
   ],
   "source": [
    "'''\n",
    "python 使用遇到问题集  \n",
    "NoIf\n",
    "计划时间：2018-7-18\n",
    "'''"
   ]
  },
  {
   "cell_type": "markdown",
   "metadata": {},
   "source": [
    "# pip 安装时中文编码问题\n",
    "\n",
    "在python环境下找到\n",
    "Lib\\site-packages\\pip\\compat\\__init__.py 约75行 \n",
    "\n",
    "原\n",
    "\n",
    "    if sys.version_info >= (3,):\n",
    "        def console_to_str(s):\n",
    "            try:\n",
    "                return s.decode(sys.__stdout__.encoding)\n",
    "            except UnicodeDecodeError:\n",
    "                return s.decode('utf_8')\n",
    "            \n",
    "修改为\n",
    "\n",
    "    if sys.version_info >= (3,):\n",
    "        def console_to_str(s):\n",
    "            try:\n",
    "                return s.decode(sys.__stdout__.encoding)\n",
    "            except UnicodeDecodeError:\n",
    "                try:\n",
    "                    return s.decode('utf_8')\n",
    "                except UnicodeDecodeError:\n",
    "                    return s.decode('cp936') #gbk\n",
    "\n",
    "#### *pip10中该Bug已修复*"
   ]
  },
  {
   "cell_type": "markdown",
   "metadata": {},
   "source": [
    "# matplotlib中文问题\n",
    "### 修改配置文件\n",
    "    将C:\\Windows\\Fonts 下面的字体 simsun.ttf，微软雅黑字体 拷贝到D:\\Programs\\Anaconda\\Lib\\site-packages\\matplotlib\\mpl-data\\fonts\\ttf 文件夹下。（Anaconda文件夹和安装位置有关）\n",
    "\n",
    "    打开D:\\Programs\\Anaconda\\Lib\\site-packages\\matplotlib\\mpl-data\\matplotlibrc\n",
    "\n",
    "    找到如下两行：\n",
    "\n",
    "    #font.family         : sans-serif\n",
    "    #font.sans-serif     : Bitstream Vera Sans, Lucida Grande, Verdana, Geneva, Lucid, Arial, Helvetica, Avant Garde, sans-serif\n",
    "    去掉这两行前面的#，并且在font.sans-serif的冒号后面加上SimHei，结果如下所示\n",
    "\n",
    "    font.family         : sans-serif\n",
    "    font.sans-serif     : SimHei,Bitstream Vera Sans, Lucida Grande, Verdana, Geneva, Lucid, Arial, Helvetica, Avant Garde, sans-serif\n",
    "    \n",
    "    找到 axes.unicode_minus = True\n",
    "    修改为 axes.unicode_minus = False\n",
    "    \n"
   ]
  },
  {
   "cell_type": "code",
   "execution_count": null,
   "metadata": {},
   "outputs": [],
   "source": []
  }
 ],
 "metadata": {
  "kernelspec": {
   "display_name": "Python 3",
   "language": "python",
   "name": "python3"
  },
  "language_info": {
   "codemirror_mode": {
    "name": "ipython",
    "version": 3
   },
   "file_extension": ".py",
   "mimetype": "text/x-python",
   "name": "python",
   "nbconvert_exporter": "python",
   "pygments_lexer": "ipython3",
   "version": "3.6.5"
  }
 },
 "nbformat": 4,
 "nbformat_minor": 2
}
